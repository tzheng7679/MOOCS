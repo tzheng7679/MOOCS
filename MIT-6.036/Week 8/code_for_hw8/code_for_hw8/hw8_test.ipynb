{
 "cells": [
  {
   "cell_type": "markdown",
   "metadata": {},
   "source": [
    "# Importing hw8"
   ]
  },
  {
   "cell_type": "code",
   "execution_count": null,
   "metadata": {},
   "outputs": [],
   "source": [
    "import importlib\n",
    "import code_for_hw8_keras as hw8\n",
    "import numpy as np\n",
    "importlib.reload(hw8)"
   ]
  },
  {
   "cell_type": "markdown",
   "metadata": {},
   "source": [
    "# Problem 3"
   ]
  },
  {
   "cell_type": "markdown",
   "metadata": {},
   "source": [
    "### a.) Test method"
   ]
  },
  {
   "cell_type": "code",
   "execution_count": null,
   "metadata": {},
   "outputs": [],
   "source": [
    "two_archs = hw8.archs(2)\n",
    "\n",
    "def test(dataset, trials=5):\n",
    "    epochs = 10\n",
    "    print(\"########\")\n",
    "    print(f\"Dataset {dataset}\")\n",
    "    print(\"########\")\n",
    "\n",
    "    for i in range(5):\n",
    "        arch = two_archs[i]\n",
    "        X_train, y, model = hw8.run_keras_2d(dataset, arch, epochs, trials = trials)"
   ]
  },
  {
   "cell_type": "markdown",
   "metadata": {},
   "source": [
    "### Datasets"
   ]
  },
  {
   "cell_type": "code",
   "execution_count": null,
   "metadata": {},
   "outputs": [],
   "source": [
    "#Get archetypes\n",
    "test('1', 1)"
   ]
  },
  {
   "cell_type": "code",
   "execution_count": null,
   "metadata": {},
   "outputs": [],
   "source": [
    "test('2', 3)    "
   ]
  },
  {
   "cell_type": "code",
   "execution_count": null,
   "metadata": {},
   "outputs": [],
   "source": [
    "test('3', 3)"
   ]
  },
  {
   "cell_type": "code",
   "execution_count": null,
   "metadata": {},
   "outputs": [],
   "source": [
    "test('4', 3)"
   ]
  },
  {
   "cell_type": "code",
   "execution_count": null,
   "metadata": {},
   "outputs": [],
   "source": [
    "test('5')"
   ]
  },
  {
   "cell_type": "markdown",
   "metadata": {},
   "source": [
    "### c.)"
   ]
  },
  {
   "cell_type": "code",
   "execution_count": null,
   "metadata": {},
   "outputs": [],
   "source": [
    "from keras._tf_keras.keras.layers import Dense\n",
    "\n",
    "arch = [Dense(input_dim=2, units=200, activation='relu'),\n",
    "             Dense(units=200, activation='relu'),\n",
    "             Dense(units=2, activation=\"softmax\")]\n",
    "\n",
    "hw8.run_keras_2d('3', arch, epochs=100, trials=1)"
   ]
  },
  {
   "cell_type": "markdown",
   "metadata": {},
   "source": [
    "### e.)"
   ]
  },
  {
   "cell_type": "code",
   "execution_count": null,
   "metadata": {},
   "outputs": [],
   "source": [
    "three_archs = hw8.archs(3)\n",
    "for arch in three_archs:\n",
    "    hw8.run_keras_2d(data_name = \"3class\", layers = arch, epochs=10, display=False, split=.5, verbose=False, trials=5)"
   ]
  },
  {
   "cell_type": "markdown",
   "metadata": {},
   "source": [
    "### g.)"
   ]
  },
  {
   "cell_type": "code",
   "execution_count": null,
   "metadata": {},
   "outputs": [],
   "source": [
    "no_hidden = three_archs[0][0]\n",
    "\n",
    "weights = (no_hidden.get_weights())\n",
    "test_data = np.array([[-1,0], [1,0], [0,-11], [0,1], [-1,-1], [-1,1], [1,1], [1,-1]])\n",
    "calced = (weights[0].T@test_data.T + np.reshape(weights[1], (3, 1)))\n",
    "print(calced.T)"
   ]
  },
  {
   "cell_type": "markdown",
   "metadata": {},
   "source": [
    "# Problem 4"
   ]
  },
  {
   "cell_type": "code",
   "execution_count": null,
   "metadata": {},
   "outputs": [],
   "source": [
    "img_size = 1024\n",
    "data = hw8.get_image_data_1d(5,1024,.1)\n",
    "\n",
    "from keras._tf_keras.keras.layers import Conv1D, Dense, Flatten\n",
    "from keras._tf_keras.keras.metrics import Sum\n",
    "from keras._tf_keras.keras.optimizers import Adam\n",
    "from keras._tf_keras.keras import Input\n",
    "from keras._tf_keras.keras import Sequential\n",
    "su = Sum()\n",
    "\n",
    "\n",
    "tsize=1000\n",
    "imsize=1024\n",
    "kernel_s=2\n",
    "batch=1\n",
    "data=hw8.get_image_data_1d(tsize,imsize,0.1)\n",
    "(X_train,Y_train,X_val,Y_val,X_test,Y_test)=data\n",
    "layer1=Conv1D(filters=1, kernel_size=kernel_s, strides=1,use_bias=False,activation='relu',batch_size=batch,input_shape=(imsize,1),padding='same')\n",
    "layer3=Dense(units=1, activation='linear',use_bias=False)\n",
    "layers=[layer1,Flatten(),layer3]\n",
    "model=Sequential()\n",
    "for layer in layers:\n",
    "    model.add(layer)\n",
    "model.compile(loss='mse', optimizer=Adam())    \n",
    "model.layers[0].set_weights([np.array([1/2,1/2]).reshape(2,1,1)])\n",
    "model.layers[-1].set_weights([np.ones(imsize).reshape(imsize,1)])\n",
    "model.evaluate(X_test,Y_test)"
   ]
  },
  {
   "cell_type": "code",
   "execution_count": null,
   "metadata": {},
   "outputs": [],
   "source": [
    "layer3star = Dense(units=1, activation='linear',use_bias=True)\n",
    "layers=[layer1,Flatten(),layer3star]\n",
    "\n",
    "model=Sequential()\n",
    "for layer in layers:\n",
    "    model.add(layer)\n",
    "model.compile(loss='mse', optimizer=Adam())\n",
    "model.layers[0].set_weights([np.array([1/2,1/2]).reshape(2,1,1)])\n",
    "model.layers[-1].set_weights([np.ones(imsize).reshape(imsize,1), np.array([-10])])\n",
    "model.evaluate(X_test,Y_test)"
   ]
  },
  {
   "cell_type": "code",
   "execution_count": null,
   "metadata": {},
   "outputs": [],
   "source": [
    "import keras._tf_keras.keras.regularizers as r\n",
    "import keras._tf_keras.keras.ops as ops\n",
    "\n",
    "class MyRegularizer(r.Regularizer):\n",
    "    def __init__(self, strength=1):\n",
    "        self.strength = strength\n",
    "    \n",
    "    def __call__(self, weight_matrix):\n",
    "        return self.strength * ops.abs(ops.sum(weight_matrix))\n",
    "    \n",
    "layer1star = Conv1D(filters=1, kernel_size=kernel_s, strides=1,use_bias=False,activation='relu',input_shape=(imsize,1),padding='same', kernel_regularizer=MyRegularizer(1000))\n",
    "layer3=Dense(units=1, activation='linear',use_bias=False)\n",
    "layers = [layer1star, Flatten(), layer3]\n",
    "\n",
    "for trial in range(5):\n",
    "    model, err = hw8.train_neural_counter(layers, data)\n",
    "    print(err)\n"
   ]
  },
  {
   "cell_type": "code",
   "execution_count": null,
   "metadata": {},
   "outputs": [],
   "source": [
    "size2 = 128\n",
    "layer1=Conv1D(filters=1, kernel_size=kernel_s, strides=2,use_bias=False,activation='relu',input_shape=(1024,1),padding='same')\n",
    "\n",
    "from keras._tf_keras.keras.layers import MaxPool1D\n",
    "layer2 = MaxPool1D(2)\n",
    "layer3 = Flatten()\n",
    "layer4=Dense(units=1, activation='linear',use_bias=False)\n",
    "\n",
    "layers = [layer1, layer2, layer3, layer4]\n",
    "\n",
    "data128 = hw8.get_image_data_1d(tsize = 1000, image_size=size2, prob=.1)\n",
    "model, err = hw8.train_neural_counter(layers, data)\n",
    "print(err)\n"
   ]
  },
  {
   "cell_type": "markdown",
   "metadata": {},
   "source": [
    "# Problem 5 - MNIST"
   ]
  },
  {
   "cell_type": "code",
   "execution_count": 40,
   "metadata": {},
   "outputs": [],
   "source": [
    "import code_for_hw8_keras as hw8\n",
    "import importlib\n",
    "from keras._tf_keras.keras.layers import Dense, Conv1D, Conv2D, Activation\n",
    "nums = 10"
   ]
  },
  {
   "cell_type": "code",
   "execution_count": 41,
   "metadata": {},
   "outputs": [],
   "source": [
    "train, validation = hw8.get_MNIST_data()"
   ]
  },
  {
   "cell_type": "code",
   "execution_count": 47,
   "metadata": {},
   "outputs": [],
   "source": [
    "def test_fc(train, validation, layers, epochs, verbose=True, trials=5):\n",
    "    hw8.run_keras_fc_mnist(validation, validation, layers, epochs, split=0.1, verbose=verbose, trials=trials)\n",
    "\n",
    "def test_cn(validation, validation, layers, epochs, verbose=True, trials=5):\n",
    "    hw8.run_keras_cn_mnist(validation, validation, layers, epochs, split=0.1, verbose=verbose, trials=trials)\n"
   ]
  },
  {
   "cell_type": "code",
   "execution_count": 43,
   "metadata": {},
   "outputs": [
    {
     "name": "stderr",
     "output_type": "stream",
     "text": [
      "C:\\Users\\Tony Zheng\\AppData\\Roaming\\Python\\Python312\\site-packages\\keras\\src\\layers\\core\\dense.py:87: UserWarning: Do not pass an `input_shape`/`input_dim` argument to a layer. When using Sequential models, prefer using an `Input(shape)` object as the first layer in the model instead.\n",
      "  super().__init__(activity_regularizer=activity_regularizer, **kwargs)\n"
     ]
    },
    {
     "name": "stdout",
     "output_type": "stream",
     "text": [
      "\u001b[1m1875/1875\u001b[0m \u001b[32m━━━━━━━━━━━━━━━━━━━━\u001b[0m\u001b[37m\u001b[0m \u001b[1m2s\u001b[0m 1ms/step - accuracy: 0.7747 - loss: 16.8751 - val_accuracy: 0.8812 - val_loss: 6.3354\n",
      "\n",
      "Loss on validation set:6.33543586730957 Accuracy on validation set: 0.8812000155448914\n",
      "\u001b[1m1875/1875\u001b[0m \u001b[32m━━━━━━━━━━━━━━━━━━━━\u001b[0m\u001b[37m\u001b[0m \u001b[1m2s\u001b[0m 952us/step - accuracy: 0.8775 - loss: 6.2737 - val_accuracy: 0.8872 - val_loss: 6.4363\n",
      "\n",
      "Loss on validation set:6.436333179473877 Accuracy on validation set: 0.8871999979019165\n",
      "\u001b[1m1875/1875\u001b[0m \u001b[32m━━━━━━━━━━━━━━━━━━━━\u001b[0m\u001b[37m\u001b[0m \u001b[1m2s\u001b[0m 932us/step - accuracy: 0.8866 - loss: 5.6592 - val_accuracy: 0.8823 - val_loss: 5.7944\n",
      "\n",
      "Loss on validation set:5.794368267059326 Accuracy on validation set: 0.8823000192642212\n",
      "\u001b[1m1875/1875\u001b[0m \u001b[32m━━━━━━━━━━━━━━━━━━━━\u001b[0m\u001b[37m\u001b[0m \u001b[1m2s\u001b[0m 954us/step - accuracy: 0.8835 - loss: 5.5573 - val_accuracy: 0.9006 - val_loss: 5.6492\n",
      "\n",
      "Loss on validation set:5.649191379547119 Accuracy on validation set: 0.900600016117096\n",
      "\u001b[1m1875/1875\u001b[0m \u001b[32m━━━━━━━━━━━━━━━━━━━━\u001b[0m\u001b[37m\u001b[0m \u001b[1m2s\u001b[0m 910us/step - accuracy: 0.8873 - loss: 5.4753 - val_accuracy: 0.8803 - val_loss: 6.0025\n",
      "\n",
      "Loss on validation set:6.002542972564697 Accuracy on validation set: 0.880299985408783\n",
      "\n",
      "Avg. validation accuracy:0.8863200068473815\n"
     ]
    }
   ],
   "source": [
    "# 5b\n",
    "importlib.reload(hw8)\n",
    "layers_b = [Dense(10, 'softmax', input_dim=28*28)]\n",
    "test_fc(train, validation, layers_b, 1)"
   ]
  },
  {
   "cell_type": "code",
   "execution_count": 44,
   "metadata": {},
   "outputs": [
    {
     "name": "stdout",
     "output_type": "stream",
     "text": [
      "\u001b[1m1875/1875\u001b[0m \u001b[32m━━━━━━━━━━━━━━━━━━━━\u001b[0m\u001b[37m\u001b[0m \u001b[1m2s\u001b[0m 909us/step - accuracy: 0.8322 - loss: 4.0731 - val_accuracy: 0.8575 - val_loss: 5.0820\n",
      "\n",
      "Loss on validation set:5.081984043121338 Accuracy on validation set: 0.8575000166893005\n",
      "\u001b[1m1875/1875\u001b[0m \u001b[32m━━━━━━━━━━━━━━━━━━━━\u001b[0m\u001b[37m\u001b[0m \u001b[1m2s\u001b[0m 914us/step - accuracy: 0.8788 - loss: 4.8120 - val_accuracy: 0.8916 - val_loss: 4.4658\n",
      "\n",
      "Loss on validation set:4.465848445892334 Accuracy on validation set: 0.8916000127792358\n",
      "\u001b[1m1875/1875\u001b[0m \u001b[32m━━━━━━━━━━━━━━━━━━━━\u001b[0m\u001b[37m\u001b[0m \u001b[1m2s\u001b[0m 948us/step - accuracy: 0.8794 - loss: 5.0221 - val_accuracy: 0.8684 - val_loss: 6.1543\n",
      "\n",
      "Loss on validation set:6.154330253601074 Accuracy on validation set: 0.868399977684021\n",
      "\u001b[1m1875/1875\u001b[0m \u001b[32m━━━━━━━━━━━━━━━━━━━━\u001b[0m\u001b[37m\u001b[0m \u001b[1m2s\u001b[0m 890us/step - accuracy: 0.8839 - loss: 4.9119 - val_accuracy: 0.8760 - val_loss: 5.8109\n",
      "\n",
      "Loss on validation set:5.810883045196533 Accuracy on validation set: 0.8759999871253967\n",
      "\u001b[1m1875/1875\u001b[0m \u001b[32m━━━━━━━━━━━━━━━━━━━━\u001b[0m\u001b[37m\u001b[0m \u001b[1m2s\u001b[0m 894us/step - accuracy: 0.8864 - loss: 5.0989 - val_accuracy: 0.8651 - val_loss: 6.6667\n",
      "\n",
      "Loss on validation set:6.666698455810547 Accuracy on validation set: 0.8651000261306763\n",
      "\n",
      "Avg. validation accuracy:0.8717200040817261\n"
     ]
    }
   ],
   "source": [
    "# 5c\n",
    "from keras._tf_keras.keras.initializers import VarianceScaling\n",
    "kernel_initializer=VarianceScaling(scale=0.001, mode='fan_in', distribution='normal', seed=None)\n",
    "layers_c = [Dense(10, 'softmax', input_dim=28*28, kernel_initializer=kernel_initializer)]\n",
    "test_fc(train, validation, layers_c, 1)"
   ]
  },
  {
   "cell_type": "code",
   "execution_count": 45,
   "metadata": {},
   "outputs": [
    {
     "name": "stdout",
     "output_type": "stream",
     "text": [
      "\u001b[1m1875/1875\u001b[0m \u001b[32m━━━━━━━━━━━━━━━━━━━━\u001b[0m\u001b[37m\u001b[0m \u001b[1m2s\u001b[0m 878us/step - accuracy: 0.8863 - loss: 0.5466 - val_accuracy: 0.9202 - val_loss: 0.2935\n",
      "\n",
      "Loss on validation set:0.2935291826725006 Accuracy on validation set: 0.920199990272522\n",
      "\u001b[1m1875/1875\u001b[0m \u001b[32m━━━━━━━━━━━━━━━━━━━━\u001b[0m\u001b[37m\u001b[0m \u001b[1m2s\u001b[0m 987us/step - accuracy: 0.9173 - loss: 0.2953 - val_accuracy: 0.9229 - val_loss: 0.2769\n",
      "\n",
      "Loss on validation set:0.2769264280796051 Accuracy on validation set: 0.9229000210762024\n",
      "\u001b[1m1875/1875\u001b[0m \u001b[32m━━━━━━━━━━━━━━━━━━━━\u001b[0m\u001b[37m\u001b[0m \u001b[1m2s\u001b[0m 927us/step - accuracy: 0.9248 - loss: 0.2689 - val_accuracy: 0.9245 - val_loss: 0.2707\n",
      "\n",
      "Loss on validation set:0.2706834673881531 Accuracy on validation set: 0.9244999885559082\n",
      "\u001b[1m1875/1875\u001b[0m \u001b[32m━━━━━━━━━━━━━━━━━━━━\u001b[0m\u001b[37m\u001b[0m \u001b[1m2s\u001b[0m 872us/step - accuracy: 0.9253 - loss: 0.2658 - val_accuracy: 0.9245 - val_loss: 0.2688\n",
      "\n",
      "Loss on validation set:0.26883599162101746 Accuracy on validation set: 0.9244999885559082\n",
      "\u001b[1m1875/1875\u001b[0m \u001b[32m━━━━━━━━━━━━━━━━━━━━\u001b[0m\u001b[37m\u001b[0m \u001b[1m2s\u001b[0m 873us/step - accuracy: 0.9281 - loss: 0.2599 - val_accuracy: 0.9268 - val_loss: 0.2650\n",
      "\n",
      "Loss on validation set:0.26503902673721313 Accuracy on validation set: 0.926800012588501\n",
      "\n",
      "Avg. validation accuracy:0.9237800002098083\n"
     ]
    }
   ],
   "source": [
    "import numpy as np\n",
    "# 5d\n",
    "train_scaled = (train[0] / np.max(train[0]), train[1])\n",
    "validation_scaled = (validation[0] / np.max(validation[0]), validation[1])\n",
    "test_fc(train_scaled, validation_scaled, layers_b, 1)"
   ]
  },
  {
   "cell_type": "code",
   "execution_count": null,
   "metadata": {},
   "outputs": [],
   "source": [
    "test_fc(train_scaled, validation_scaled, layers_b, epochs=15, trials=1)"
   ]
  },
  {
   "cell_type": "code",
   "execution_count": 52,
   "metadata": {},
   "outputs": [
    {
     "name": "stderr",
     "output_type": "stream",
     "text": [
      "C:\\Users\\Tony Zheng\\AppData\\Roaming\\Python\\Python312\\site-packages\\keras\\src\\layers\\core\\dense.py:87: UserWarning: Do not pass an `input_shape`/`input_dim` argument to a layer. When using Sequential models, prefer using an `Input(shape)` object as the first layer in the model instead.\n",
      "  super().__init__(activity_regularizer=activity_regularizer, **kwargs)\n"
     ]
    },
    {
     "name": "stdout",
     "output_type": "stream",
     "text": [
      "\n",
      "Loss on validation set:0.1396959125995636 Accuracy on validation set: 0.9599999785423279\n",
      "\n",
      "Avg. validation accuracy:0.9599999785423279\n",
      "\n",
      "Loss on validation set:0.11067125201225281 Accuracy on validation set: 0.9664999842643738\n",
      "\n",
      "Avg. validation accuracy:0.9664999842643738\n",
      "\n",
      "Loss on validation set:0.09634978324174881 Accuracy on validation set: 0.9714000225067139\n",
      "\n",
      "Avg. validation accuracy:0.9714000225067139\n",
      "\n",
      "Loss on validation set:0.09923116862773895 Accuracy on validation set: 0.9690999984741211\n",
      "\n",
      "Avg. validation accuracy:0.9690999984741211\n"
     ]
    }
   ],
   "source": [
    "# 5h\n",
    "for units in [2 ** (i+7) for i in range(4)]:\n",
    "    second_layer = [Dense(10, 'softmax', input_dim=units)]\n",
    "    layers_h = [Dense(units=units, activation='relu', input_dim = 28*28)] + second_layer\n",
    "\n",
    "    test_fc(train_scaled, validation_scaled, layers_h, epochs=1, verbose=False, trials=1)"
   ]
  },
  {
   "cell_type": "code",
   "execution_count": 53,
   "metadata": {},
   "outputs": [
    {
     "name": "stderr",
     "output_type": "stream",
     "text": [
      "C:\\Users\\Tony Zheng\\AppData\\Roaming\\Python\\Python312\\site-packages\\keras\\src\\layers\\core\\dense.py:87: UserWarning: Do not pass an `input_shape`/`input_dim` argument to a layer. When using Sequential models, prefer using an `Input(shape)` object as the first layer in the model instead.\n",
      "  super().__init__(activity_regularizer=activity_regularizer, **kwargs)\n"
     ]
    },
    {
     "name": "stdout",
     "output_type": "stream",
     "text": [
      "\n",
      "Loss on validation set:0.10429543256759644 Accuracy on validation set: 0.96670001745224\n",
      "\n",
      "Avg. validation accuracy:0.96670001745224\n"
     ]
    }
   ],
   "source": [
    "# 5i\n",
    "\n",
    "last_layer = [Dense(10, 'softmax', input_dim=units)]\n",
    "layers_i = [\n",
    "    Dense(units=512, activation='relu', input_dim = 28*28), \n",
    "    Dense(units=256, activation='relu')] + \\\n",
    "        last_layer\n",
    "\n",
    "test_fc(train_scaled, validation_scaled, layers_i, epochs=1, verbose=False, trials=1)"
   ]
  },
  {
   "cell_type": "code",
   "execution_count": 56,
   "metadata": {},
   "outputs": [
    {
     "name": "stdout",
     "output_type": "stream",
     "text": [
      "\u001b[1m1875/1875\u001b[0m \u001b[32m━━━━━━━━━━━━━━━━━━━━\u001b[0m\u001b[37m\u001b[0m \u001b[1m13s\u001b[0m 6ms/step - accuracy: 0.8738 - loss: 0.3972 - val_accuracy: 0.9847 - val_loss: 0.0466\n",
      "\n",
      "Loss on validation set:0.046636298298835754 Accuracy on validation set: 0.9847000241279602\n",
      "\n",
      "Avg. validation accuracy:0.9847000241279602\n"
     ]
    }
   ],
   "source": [
    "# 5j\n",
    "from keras._tf_keras.keras.layers import MaxPool2D, Dropout, Flatten\n",
    "layers_j = [\n",
    "    Conv2D(filters=32, kernel_size=(3,3), activation='relu'),\n",
    "    MaxPool2D(),\n",
    "    Conv2D(filters=64, kernel_size=(3,3), activation='relu'),\n",
    "    MaxPool2D(),\n",
    "    Flatten(),\n",
    "    Dense(128, activation='relu'),\n",
    "    Dropout(rate=.5),\n",
    "    Dense(10, 'softmax')\n",
    "]\n",
    "\n",
    "hw8.run_keras_cnn_mnist(train_scaled, validation_scaled, layers_j, 1)"
   ]
  },
  {
   "cell_type": "code",
   "execution_count": 62,
   "metadata": {},
   "outputs": [
    {
     "name": "stdout",
     "output_type": "stream",
     "text": [
      "\u001b[1m1875/1875\u001b[0m \u001b[32m━━━━━━━━━━━━━━━━━━━━\u001b[0m\u001b[37m\u001b[0m \u001b[1m19s\u001b[0m 10ms/step - accuracy: 0.6206 - loss: 1.1135 - val_accuracy: 0.8686 - val_loss: 0.4045\n",
      "\n",
      "Loss on validation set:0.4045166075229645 Accuracy on validation set: 0.8686000108718872\n",
      "\n",
      "Avg. validation accuracy:0.8686000108718872\n",
      "\u001b[1m1875/1875\u001b[0m \u001b[32m━━━━━━━━━━━━━━━━━━━━\u001b[0m\u001b[37m\u001b[0m \u001b[1m36s\u001b[0m 19ms/step - accuracy: 0.5730 - loss: 1.2066 - val_accuracy: 0.9571 - val_loss: 0.1526\n",
      "\n",
      "Loss on validation set:0.15257403254508972 Accuracy on validation set: 0.957099974155426\n",
      "\n",
      "Avg. validation accuracy:0.957099974155426\n"
     ]
    }
   ],
   "source": [
    "# 5k\n",
    "train_20, validation_20 = hw8.get_MNIST_data(shift=20)\n",
    "train_20 = (train_20[0] / np.max(train_20[0]), train_20[1])\n",
    "validation_20 = (validation_20[0] / np.max(validation_20[0]), validation_20[1])\n",
    "\n",
    "layers_i_modified = [\n",
    "    Dense(units=512, activation='relu'), \n",
    "    Dense(units=256, activation='relu')] + \\\n",
    "        last_layer\n",
    "\n",
    "hw8.run_keras_fc_mnist(train_20, validation_20, layers_i_modified, 1)\n",
    "\n",
    "layers_j = [\n",
    "    Conv2D(filters=32, kernel_size=(3,3), activation='relu'),\n",
    "    MaxPool2D(),\n",
    "    Conv2D(filters=64, kernel_size=(3,3), activation='relu'),\n",
    "    MaxPool2D(),\n",
    "    Flatten(),\n",
    "    Dense(128, activation='relu'),\n",
    "    Dropout(rate=.5),\n",
    "    Dense(10, 'softmax')\n",
    "]\n",
    "hw8.run_keras_cnn_mnist(train_20, validation_20, layers_j, 1)"
   ]
  }
 ],
 "metadata": {
  "kernelspec": {
   "display_name": "Python 3",
   "language": "python",
   "name": "python3"
  },
  "language_info": {
   "codemirror_mode": {
    "name": "ipython",
    "version": 3
   },
   "file_extension": ".py",
   "mimetype": "text/x-python",
   "name": "python",
   "nbconvert_exporter": "python",
   "pygments_lexer": "ipython3",
   "version": "3.12.3"
  }
 },
 "nbformat": 4,
 "nbformat_minor": 2
}
